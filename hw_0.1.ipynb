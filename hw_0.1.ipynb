{
 "cells": [
  {
   "cell_type": "code",
   "execution_count": 1,
   "id": "initial_id",
   "metadata": {
    "ExecuteTime": {
     "end_time": "2024-01-13T23:10:41.931861100Z",
     "start_time": "2024-01-13T23:10:41.794807200Z"
    },
    "collapsed": true
   },
   "outputs": [],
   "source": [
    "import numpy as np"
   ]
  },
  {
   "cell_type": "code",
   "execution_count": 2,
   "id": "83cb30fe422ac58b",
   "metadata": {
    "ExecuteTime": {
     "end_time": "2024-01-13T23:10:41.979495800Z",
     "start_time": "2024-01-13T23:10:41.931861100Z"
    },
    "collapsed": false
   },
   "outputs": [],
   "source": [
    "A = np.array([10, 20, 30, 40])"
   ]
  },
  {
   "cell_type": "code",
   "execution_count": 3,
   "id": "9ceaa47ad3e1ee17",
   "metadata": {
    "ExecuteTime": {
     "end_time": "2024-01-13T23:10:41.981495800Z",
     "start_time": "2024-01-13T23:10:41.976495600Z"
    },
    "collapsed": false
   },
   "outputs": [],
   "source": [
    "mask = (A >= 20) & (A <= 30)"
   ]
  },
  {
   "cell_type": "code",
   "execution_count": 4,
   "id": "da8fa6e2a40075fb",
   "metadata": {
    "ExecuteTime": {
     "start_time": "2024-01-13T23:10:42.449451700Z"
    },
    "collapsed": false
   },
   "outputs": [],
   "source": [
    "B = A[mask]"
   ]
  },
  {
   "cell_type": "code",
   "execution_count": 5,
   "id": "41fca12075875d06",
   "metadata": {
    "ExecuteTime": {
     "start_time": "2024-01-13T23:10:42.476541100Z"
    },
    "collapsed": false
   },
   "outputs": [
    {
     "data": {
      "text/plain": [
       "array([20, 30])"
      ]
     },
     "execution_count": 5,
     "metadata": {},
     "output_type": "execute_result"
    }
   ],
   "source": [
    "B"
   ]
  },
  {
   "cell_type": "code",
   "execution_count": 6,
   "id": "a1c13534347d6d78",
   "metadata": {
    "ExecuteTime": {
     "start_time": "2024-01-13T23:10:42.629029400Z"
    },
    "collapsed": false
   },
   "outputs": [
    {
     "data": {
      "text/plain": [
       "array([[1, 2, 3],\n",
       "       [4, 5, 6],\n",
       "       [7, 8, 9]])"
      ]
     },
     "execution_count": 6,
     "metadata": {},
     "output_type": "execute_result"
    }
   ],
   "source": [
    "arr = np.arange(1, 10).reshape(3,3)\n",
    "arr"
   ]
  },
  {
   "cell_type": "code",
   "execution_count": 7,
   "id": "9e6f1880fac80578",
   "metadata": {
    "ExecuteTime": {
     "start_time": "2024-01-13T23:10:42.630029600Z"
    },
    "collapsed": false
   },
   "outputs": [],
   "source": [
    "result = np.trace(arr)"
   ]
  },
  {
   "cell_type": "code",
   "execution_count": 8,
   "id": "b408a753681c51b4",
   "metadata": {
    "ExecuteTime": {
     "start_time": "2024-01-13T23:10:42.630029600Z"
    },
    "collapsed": false
   },
   "outputs": [
    {
     "name": "stdout",
     "output_type": "stream",
     "text": [
      "15\n"
     ]
    }
   ],
   "source": [
    "print(result)"
   ]
  },
  {
   "cell_type": "code",
   "execution_count": 9,
   "id": "a467c924a537b3fa",
   "metadata": {
    "ExecuteTime": {
     "start_time": "2024-01-13T23:10:42.630029600Z"
    },
    "collapsed": false
   },
   "outputs": [
    {
     "data": {
      "text/plain": [
       "array([1, 2, 3, 4, 5, 6, 7, 8, 9])"
      ]
     },
     "execution_count": 9,
     "metadata": {},
     "output_type": "execute_result"
    }
   ],
   "source": [
    "np.arange(1, 10)"
   ]
  },
  {
   "cell_type": "code",
   "execution_count": 10,
   "id": "ed034ba0606e99c",
   "metadata": {
    "ExecuteTime": {
     "start_time": "2024-01-13T23:10:42.630029600Z"
    },
    "collapsed": false
   },
   "outputs": [],
   "source": [
    "arr1 = np.array([1, 2, 3])\n",
    "arr2 = np.array([4, 5, 6])"
   ]
  },
  {
   "cell_type": "code",
   "execution_count": 11,
   "id": "76b22933a0519d12",
   "metadata": {
    "ExecuteTime": {
     "start_time": "2024-01-13T23:10:42.630029600Z"
    },
    "collapsed": false
   },
   "outputs": [
    {
     "name": "stdout",
     "output_type": "stream",
     "text": [
      "[-3  6 -3]\n"
     ]
    }
   ],
   "source": [
    "result = np.cross(arr1, arr2)\n",
    "print(result)"
   ]
  },
  {
   "cell_type": "code",
   "execution_count": 12,
   "id": "d0b7b0b0fafe33e4",
   "metadata": {
    "ExecuteTime": {
     "start_time": "2024-01-13T23:10:42.630029600Z"
    },
    "collapsed": false
   },
   "outputs": [
    {
     "name": "stdout",
     "output_type": "stream",
     "text": [
      "50.48\n",
      "31.81712746305046\n"
     ]
    }
   ],
   "source": [
    "matrix = np.random.randint(1, 100, 25).reshape(5, 5)\n",
    "m = np.mean(matrix)\n",
    "std = np.std(matrix)\n",
    "\n",
    "print(m)\n",
    "print(std)"
   ]
  },
  {
   "cell_type": "code",
   "execution_count": 13,
   "id": "569e446dc370860",
   "metadata": {
    "ExecuteTime": {
     "end_time": "2024-01-13T23:10:42.648615200Z",
     "start_time": "2024-01-13T23:10:42.630029600Z"
    },
    "collapsed": false
   },
   "outputs": [
    {
     "name": "stdout",
     "output_type": "stream",
     "text": [
      "[[162.]\n",
      " [159.]\n",
      " [163.]\n",
      " [160.]\n",
      " [162.]]\n"
     ]
    }
   ],
   "source": [
    "np.random.seed(42)\n",
    "\n",
    "matrix = np.eye(5) + 5\n",
    "\n",
    "vector = np.random.randint(1, 11, (5, 1))\n",
    "result = np.dot(matrix, vector)\n",
    "print(result)"
   ]
  },
  {
   "cell_type": "code",
   "execution_count": 14,
   "id": "aacc51c4fbc41aea",
   "metadata": {
    "ExecuteTime": {
     "end_time": "2024-01-13T23:10:42.648615200Z",
     "start_time": "2024-01-13T23:10:42.630029600Z"
    },
    "collapsed": false
   },
   "outputs": [
    {
     "data": {
      "text/plain": [
       "array([[6., 5., 5., 5., 5.],\n",
       "       [5., 6., 5., 5., 5.],\n",
       "       [5., 5., 6., 5., 5.],\n",
       "       [5., 5., 5., 6., 5.],\n",
       "       [5., 5., 5., 5., 6.]])"
      ]
     },
     "execution_count": 14,
     "metadata": {},
     "output_type": "execute_result"
    }
   ],
   "source": [
    "matrix"
   ]
  },
  {
   "cell_type": "code",
   "execution_count": 15,
   "id": "c5c24368e44d7161",
   "metadata": {
    "ExecuteTime": {
     "end_time": "2024-01-13T23:10:42.649615600Z",
     "start_time": "2024-01-13T23:10:42.631030800Z"
    },
    "collapsed": false
   },
   "outputs": [
    {
     "data": {
      "text/plain": [
       "array([[162.],\n",
       "       [159.],\n",
       "       [163.],\n",
       "       [160.],\n",
       "       [162.]])"
      ]
     },
     "execution_count": 15,
     "metadata": {},
     "output_type": "execute_result"
    }
   ],
   "source": [
    "result2 = np.matmul(matrix, vector)\n",
    "result2"
   ]
  },
  {
   "cell_type": "code",
   "execution_count": 16,
   "id": "bdba0b62e2471",
   "metadata": {
    "ExecuteTime": {
     "end_time": "2024-01-13T23:10:42.649615600Z",
     "start_time": "2024-01-13T23:10:42.631030800Z"
    },
    "collapsed": false
   },
   "outputs": [
    {
     "name": "stdout",
     "output_type": "stream",
     "text": [
      "[[4399  174 6600]\n",
      " [2250 3344  200]\n",
      " [1536  180  462]]\n",
      "[[4399  174 6600]\n",
      " [2250 3344  200]\n",
      " [1536  180  462]]\n"
     ]
    }
   ],
   "source": [
    "A = np.random.randint(1, 101, 9).reshape(3, 3)\n",
    "B = np.random.randint(1, 101, 9).reshape(3, 3)\n",
    "\n",
    "\n",
    "result = A * B\n",
    "print(result)\n",
    "\n",
    "result1 = np.multiply(A, B)\n",
    "print(result1)"
   ]
  },
  {
   "cell_type": "code",
   "execution_count": 17,
   "id": "1fe151321a0b8a2d",
   "metadata": {
    "ExecuteTime": {
     "start_time": "2024-01-13T23:10:42.676217800Z"
    },
    "collapsed": false
   },
   "outputs": [
    {
     "name": "stdout",
     "output_type": "stream",
     "text": [
      "[   103    539   1400   1671   1778   1850   2551   2572   3187   3309\n",
      "   3776   3991   4322   4781   4869   5242   5342   6214   6878   7009\n",
      "   7671   7980   8750   9094   9586  10000  10806  11192  11384  12340\n",
      "  12617  12778  13238  13552  13574  13827  14575  15432  15993  16468\n",
      "  16527  17038  17720  18196  18896  19872  20655  20845  21803  22490\n",
      "  23448  24011  24887  25454  25698  26530  27035  27166  27651  28470\n",
      "  29117  29138  29979  30146  30420  30808  31409  31725  31739  31981\n",
      "  32758  33104  33669  34567  34907  34999  35366  36322  36777  37205\n",
      "  37714  38490  39433  39468  39674  39755  40687  41249  42121  42509\n",
      "  42511  42901  43467  43573  44345  45167  45644  46347  46749  47479\n",
      "  48035  48197  48399  49357  50353  50623  51486  52302  52573  53029\n",
      "  53491  54218  54470  55172  55468  56193  56913  57662  58000  58879\n",
      "  58932  59724  60646  60863  61627  61815  62195  62688  62729  62886\n",
      "  62901  63714  63779  64636  65475  65996  66340  66469  67117  67589\n",
      "  67652  67791  68290  68883  69275  69950  70369  70658  71037  71810\n",
      "  72300  72531  72572  72600  72735  72936  73776  74556  75486  75519\n",
      "  75567  76070  76477  77051  77779  78584  78683  79367  80239  80965\n",
      "  81952  82499  83460  84199  84812  85755  86217  86860  87629  87634\n",
      "  87852  88355  89122  89520  90391  91186  91579  91786  91801  92659\n",
      "  93213  94105  94566  95257  95832  96696  97439  97680  98244  98340\n",
      "  99240  99974 100459 100866 101097 101846 102501 102672 103213 103249\n",
      " 103774 103934 104773 105472 105715 105801 106597 107175 107857 108414\n",
      " 108988 109941 110587 111383 111411 112031 112587 112927 113725 114683\n",
      " 115014 115654 116160 116508 116981 117212 117402 117627 118012 118389\n",
      " 118672 119630 120263 120891 121864 122609 122868 123227 123937 124393\n",
      " 124804 125453 125771 126448 126673 127492 127726 128410 129074 130049\n",
      " 130876 131250 131922 132530 133002 133235 133927 134040 134870 135367\n",
      " 135809 136373 136641 137151 137958 138344 138731 138844 139457 140082\n",
      " 141034 141115 141814 141927 141929 142571 142791 143357 144212 145209\n",
      " 145945 146170 146555 146958 147596 147726 147779 148463 149193 149865\n",
      " 150575 150991 151238 152074 152513 152716 152900 153023 153424 154191\n",
      " 154485 154765 155602 156486 157096 157294 158276 159183 159694 160446\n",
      " 160590 161199 161400 161524 161711 162037 162501 162850 163621 164281\n",
      " 165045 166000 166932 167335 167681 168644 169155 169302 169450 170314\n",
      " 171025 171845 172334 173263 174199 174839 175390 175728 176600 177241\n",
      " 178020 179008 179961 180434 181380 181531 181946 182936 183234 183845\n",
      " 184108 184872 185016 185362 185986 186558 187439 187441 188338 188642\n",
      " 188896 189548 190001 190038 190198 190207 190440 190539 191198 192014\n",
      " 192222 192353 192757 192909 192963 193083 193756 194676 195304 195891\n",
      " 196516 197484 197904 198326 198430 199282 199536 199763 199875 200385\n",
      " 200858 200957 201110 201971 202885 203781 204659 204997 205703 206525\n",
      " 206688 207408 208365 209046 210042 210203 210783 211584 211982 212259\n",
      " 213075 213991 214495 215391 215783 215918 216113 216514 217154 217187\n",
      " 217875 218335 219290 220173 220643 221018 221040 221790 222460 222498\n",
      " 222728 223093 223656 224094 224870 225153 225180 225406 225683 226481\n",
      " 227090 227374 228253 229213 229694 230147 230976 231792 232451 232967\n",
      " 233514 233706 233755 234267 234284 234456 234676 234834 235311 235357\n",
      " 235730 236248 236347 237239 237984 238021 238301 238650 239147 239449\n",
      " 239630 240237 240336 241036 242029 242145 242336 242589 243570 244498\n",
      " 245481 245642 245898 246221 246349 246367 247160 247895 248461 249031\n",
      " 249354 250226 250912 251704 252330 252618 253561 254415 255078 256040\n",
      " 256679 256834 257324 257710 258696 259481 259585 260514 260907 261718\n",
      " 261964 262140 262179 262656 263338 264097 264635 265502 266320 267241\n",
      " 267649 268174 269002 269508 270411 271236 271272 271957 271977 272298\n",
      " 273074 273586 273986 274640 275612 276495 276966 277109 277201 277555\n",
      " 278389 279189 279916 280875 281729 281780 282445 283143 283718 283908\n",
      " 284033 284183 284497 285067 285409 285714 286406 287088 287926 288709\n",
      " 288763 289207 289820 290813 291077 291130 291702 292322 292327 292430\n",
      " 292626 293400 294277 295269 296153 296503 296550 297417 298240 299176\n",
      " 299996 300652 300921 301291 301927 302033 302703 303362 304019 304139\n",
      " 304970 305757 306361 306419 307370 307716 308457 308931 309048 309878\n",
      " 310669 310796 311189 312097 312738 312796 313430 313943 314694 315496\n",
      " 315592 316230 316348 316908 317509 317997 318234 319119 320016 320288\n",
      " 320477 321476 322180 322627 323208 323998 324859 325106 326069 326145\n",
      " 326299 326955 327390 328387 328473 329170 329455 330429 330649 330718\n",
      " 330765 330859 331609 332567 333020 333224 334136 334354 334828 335260\n",
      " 335601 336152 336764 337053 337307 338041 338398 338421 339183 339705\n",
      " 340463 341300 341400 342202 342382 342605 343511 344273 344932 345374\n",
      " 345982 346751 347076 347592 347608 348400 348736 349495 349753 350250\n",
      " 351238 352134 352294 352769 353621 354285 355193 355883 356558 356938\n",
      " 357483 358412 359369 360060 360487 361100 361368 362203 362780 363197\n",
      " 363365 364207 364250 364806 365091 365488 365500 366107 366409 367307\n",
      " 367560 368059 368813 368848 369575 370424 370514 371290 371895 372817\n",
      " 373787 374389 374807 374922 375539 376442 376638 377464 377965 378591\n",
      " 379084 379159 379572 379948 380368 381097 381374 382135 382811 383205\n",
      " 384074 384531 385451 385643 386382 387071 387170 387718 388696 389695\n",
      " 389791 390455 391118 391308 392044 392081 392861 393230 393925 394450\n",
      " 394729 394946 395813 396686 397484 397757 398638 398700 399296 400176\n",
      " 400905 401247 401644 402343 402362 402539 403151 403547 403992 404225\n",
      " 405140 405216 405481 405936 406732 407450 408185 408569 409133 409984\n",
      " 410490 410857 411001 411886 411955 412054 412450 412475 413423 414314\n",
      " 414783 415267 415832 415983 416127 416696 416735 416844 417537 417579\n",
      " 417765 418700 419098 419321 419955 420088 420251 420466 421199 421434\n",
      " 422277 422935 423686 424274 424283 424357 425311 425803 426716 426969\n",
      " 427199 427718 427892 428545 428713 428883 429276 430222 431017 431651\n",
      " 431845 432362 432391 432556 432978 433317 433965 434461 434826 435659\n",
      " 436001 436501 437158 437669 437996 438213 438514 438646 439450 439520\n",
      " 439772 440187 440974 441419 442295 442477 442644 442735 443449 444307\n",
      " 444838 444877 445003 445454 445627 446280 447034 447254 447892 447950\n",
      " 448610 449086 449542 450371 451266 451627 452562 452563 452950 453923\n",
      " 454271 454461 454966 455157 455665 456034 456443 457267 458196 459130\n",
      " 459247 459381 459439 459995 460680 461352 461525 462354 463169 463318\n",
      " 463398 464284 464497 464700 465464 465693 466369 466596 467255 467787\n",
      " 468228 468630 468677 468910 469215 469741 469884 470299 470812 471185\n",
      " 471751 472637 472896 473552 474023 474976 475947 475959 476289 477025\n",
      " 477809 478777 479135 480107 480515 481183 481556 481564 481686 482034\n",
      " 482710 482800 483448 484146 484462 484640 485180 485912 486781 486822\n",
      " 487562 488266 489189 489691 490650 490795 490996 491925 492649 493110\n",
      " 493842 494594 495519 496428 496986 497533 497786 498176 498770 499653\n",
      " 499909 500618 501433 502354 502804 502814 503638 504436 504678 504929]\n"
     ]
    }
   ],
   "source": [
    "np.random.seed(42)\n",
    "arr = np.random.randint(1, 1001, 1000)\n",
    "\n",
    "cum_sum = np.cumsum(arr)\n",
    "\n",
    "print(cum_sum)"
   ]
  },
  {
   "cell_type": "code",
   "execution_count": 18,
   "id": "a4026e03147fef27",
   "metadata": {
    "ExecuteTime": {
     "start_time": "2024-01-13T23:10:42.677735400Z"
    },
    "collapsed": false
   },
   "outputs": [
    {
     "name": "stdout",
     "output_type": "stream",
     "text": [
      "11\n",
      "100\n",
      "(0, 0) (2, 8)\n"
     ]
    }
   ],
   "source": [
    "np.random.seed(42)\n",
    "matrix = np.random.randint(10, 101, (10, 10))\n",
    "min_value = np.min(matrix)\n",
    "max_value = np.max(matrix)\n",
    "print(min_value)\n",
    "print(max_value)\n",
    "\n",
    "min_index = np.unravel_index(np.argmin(matrix == min_value), matrix.shape)\n",
    "max_index = np.unravel_index(np.argmax(matrix == max_value), matrix.shape)\n",
    "\n",
    "print(min_index, max_index)"
   ]
  },
  {
   "cell_type": "code",
   "execution_count": 19,
   "id": "c29cd1f0c672cd24",
   "metadata": {
    "ExecuteTime": {
     "start_time": "2024-01-13T23:10:42.677735400Z"
    },
    "collapsed": false
   },
   "outputs": [
    {
     "data": {
      "text/plain": [
       "array([[ 61,  24,  81,  70,  30,  92,  96,  84,  84,  97],\n",
       "       [ 33,  12,  31,  62,  11,  97,  39,  47,  11,  73],\n",
       "       [ 69,  30,  42,  85,  67,  31,  98,  58, 100,  68],\n",
       "       [ 51,  69,  89,  24,  71,  71,  56,  71,  60,  64],\n",
       "       [ 73,  12,  60,  16,  30,  82,  48,  27,  13,  98],\n",
       "       [ 69,  23,  18,  99,  62,  11,  93,  69,  80,  53],\n",
       "       [ 17,  56,  44,  87,  90,  45,  59,  13,  11,  15],\n",
       "       [ 63,  13,  63,  72,  27,  99,  53,  43,  83,  71],\n",
       "       [ 23,  57,  24,  81,  87,  96,  71,  49,  94,  89],\n",
       "       [ 91,  62,  33,  35,  98,  69,  50,  38,  24,  54]])"
      ]
     },
     "execution_count": 19,
     "metadata": {},
     "output_type": "execute_result"
    }
   ],
   "source": [
    "matrix"
   ]
  },
  {
   "cell_type": "code",
   "execution_count": 20,
   "id": "b81cda5998d0e33c",
   "metadata": {
    "ExecuteTime": {
     "end_time": "2024-01-13T23:10:42.964086200Z",
     "start_time": "2024-01-13T23:10:42.677735400Z"
    },
    "collapsed": false
   },
   "outputs": [
    {
     "name": "stdout",
     "output_type": "stream",
     "text": [
      "[[0.07455064 0.98688694 0.77224477 0.19871568 0.00552212]\n",
      " [0.81546143 0.70685734 0.72900717 0.77127035 0.07404465]\n",
      " [0.35846573 0.11586906 0.86310343 0.62329813 0.33089802]\n",
      " [0.06355835 0.31098232 0.32518332 0.72960618 0.63755747]\n",
      " [0.88721274 0.47221493 0.11959425 0.71324479 0.76078505]]\n"
     ]
    },
    {
     "ename": "TypeError",
     "evalue": "'numpy.float64' object is not callable",
     "output_type": "error",
     "traceback": [
      "\u001b[0;31m---------------------------------------------------------------------------\u001b[0m",
      "\u001b[0;31mTypeError\u001b[0m                                 Traceback (most recent call last)",
      "Cell \u001b[0;32mIn[20], line 4\u001b[0m\n\u001b[1;32m      1\u001b[0m matrix \u001b[38;5;241m=\u001b[39m np\u001b[38;5;241m.\u001b[39mrandom\u001b[38;5;241m.\u001b[39mrand(\u001b[38;5;241m5\u001b[39m, \u001b[38;5;241m5\u001b[39m)\n\u001b[1;32m      2\u001b[0m \u001b[38;5;28mprint\u001b[39m(matrix)\n\u001b[0;32m----> 4\u001b[0m max_value \u001b[38;5;241m=\u001b[39m \u001b[43mnp\u001b[49m\u001b[38;5;241;43m.\u001b[39;49m\u001b[43mmax\u001b[49m\u001b[43m(\u001b[49m\u001b[43mmatrix\u001b[49m\u001b[43m)\u001b[49m\u001b[43m(\u001b[49m\u001b[43mnp\u001b[49m\u001b[38;5;241;43m.\u001b[39;49m\u001b[43margmax\u001b[49m\u001b[43m(\u001b[49m\u001b[43mmatrix\u001b[49m\u001b[43m)\u001b[49m\u001b[43m,\u001b[49m\u001b[43m \u001b[49m\u001b[43mmatrix\u001b[49m\u001b[38;5;241;43m.\u001b[39;49m\u001b[43mshape\u001b[49m\u001b[43m)\u001b[49m\n",
      "\u001b[0;31mTypeError\u001b[0m: 'numpy.float64' object is not callable"
     ]
    }
   ],
   "source": [
    "matrix = np.random.rand(5, 5)\n",
    "print(matrix)\n",
    "\n",
    "max_value = np.max(matrix)(np.argmax(matrix), matrix.shape)\n",
    "\n"
   ]
  },
  {
   "cell_type": "code",
   "execution_count": null,
   "id": "b74d440279775daa",
   "metadata": {
    "ExecuteTime": {
     "start_time": "2024-01-13T23:10:42.948554200Z"
    },
    "collapsed": false
   },
   "outputs": [],
   "source": [
    "import numpy as np\n",
    "\n",
    "\n",
    "\n",
    "A = np.array([[1, 2, 3], [4, 5, 6], [7, 8, 9]])\n",
    "\n",
    "B = A[1:3, 0:2]\n",
    "\n",
    "\n",
    "\n",
    "B[0, 0] = 100\n",
    "\n",
    "print(A)"
   ]
  },
  {
   "cell_type": "code",
   "execution_count": null,
   "id": "d802c3f0da97c57e",
   "metadata": {
    "ExecuteTime": {
     "start_time": "2024-01-13T23:10:42.951549600Z"
    },
    "collapsed": false
   },
   "outputs": [],
   "source": [
    "import numpy as np\n",
    "\n",
    "\n",
    "\n",
    "A = np.arange(1, 17).reshape(4, 4)\n",
    "\n",
    "B = A[:, ::-1]\n",
    "\n",
    "\n",
    "\n",
    "print(B)"
   ]
  },
  {
   "cell_type": "code",
   "execution_count": null,
   "id": "9d2188e1d243111f",
   "metadata": {
    "ExecuteTime": {
     "end_time": "2024-01-13T23:10:43.104013200Z",
     "start_time": "2024-01-13T23:10:42.997235200Z"
    },
    "collapsed": false
   },
   "outputs": [],
   "source": [
    "import numpy as np\n",
    "\n",
    "# Create a 1D array of 20 elements with random integers between 1 and 100\n",
    "arr = np.random.randint(1, 100, 20)\n",
    "print(\"Array:\")\n",
    "print(arr)\n",
    "\n",
    "# Calculate the number of even and odd elements\n",
    "evens = np.sum(arr % 2 == 0)\n",
    "odds = np.sum(arr % 2 == 1)\n",
    "\n",
    "print(\"Number of even numbers:\", evens)\n",
    "print(\"Number of odd numbers:\", odds)"
   ]
  },
  {
   "cell_type": "code",
   "execution_count": null,
   "id": "8f98a1f37ef41b2d",
   "metadata": {
    "ExecuteTime": {
     "start_time": "2024-01-13T23:10:42.997235200Z"
    },
    "collapsed": false
   },
   "outputs": [],
   "source": [
    "import numpy as np\n",
    "\n",
    "# Create a 1D array of 20 elements with random integers between 1 and 100\n",
    "arr = np.random.randint(1, 100, 20)\n",
    "print(\"Array:\")\n",
    "print(arr)\n",
    "\n",
    "# Calculate the number of even and odd elements\n",
    "evens = np.sum(arr % 2 == 0)\n",
    "odds = np.sum(arr % 2 == 1)\n",
    "\n",
    "print(\"Number of even numbers:\", evens)\n",
    "print(\"Number of odd numbers:\", odds)"
   ]
  },
  {
   "cell_type": "code",
   "execution_count": null,
   "id": "7897ce3226be8fd",
   "metadata": {
    "ExecuteTime": {
     "start_time": "2024-01-13T23:10:42.997235200Z"
    },
    "collapsed": false
   },
   "outputs": [],
   "source": [
    "data = {\n",
    "\n",
    "    'Title': ['Inception', 'Dunkirk', 'Interstellar', 'The Prestige', 'Memento'],\n",
    "\n",
    "    'Director': ['Christopher Nolan', 'Christopher Nolan', 'Christopher Nolan', 'Christopher Nolan', 'Christopher Nolan'],\n",
    "\n",
    "    'Rating': [8.8, 7.9, 8.6, 8.5, 8.4]\n",
    "\n",
    "}"
   ]
  },
  {
   "cell_type": "code",
   "execution_count": null,
   "id": "f8b20306c3e42f91",
   "metadata": {
    "ExecuteTime": {
     "start_time": "2024-01-13T23:10:42.997235200Z"
    },
    "collapsed": false
   },
   "outputs": [],
   "source": [
    "data"
   ]
  },
  {
   "cell_type": "code",
   "execution_count": null,
   "id": "aee3080a3197584c",
   "metadata": {
    "ExecuteTime": {
     "start_time": "2024-01-13T23:10:42.997235200Z"
    },
    "collapsed": false
   },
   "outputs": [],
   "source": [
    "import pandas as pd"
   ]
  },
  {
   "cell_type": "code",
   "execution_count": null,
   "id": "d1adc80c08096d50",
   "metadata": {
    "ExecuteTime": {
     "start_time": "2024-01-13T23:10:42.997235200Z"
    },
    "collapsed": false
   },
   "outputs": [],
   "source": [
    "df = pd.DataFrame(data)\n",
    "df\n",
    "\n",
    "nolan_movie = df[df['Director'] == 'Christopher Nolan']\n",
    "\n",
    "nolan_movie"
   ]
  },
  {
   "cell_type": "code",
   "execution_count": null,
   "id": "9bcbbe3cb91429c1",
   "metadata": {
    "ExecuteTime": {
     "start_time": "2024-01-13T23:10:42.997235200Z"
    },
    "collapsed": false
   },
   "outputs": [],
   "source": [
    "data = {\n",
    "\n",
    "    'Category': ['Fruit', 'Vegetable', 'Fruit', 'Vegetable', 'Fruit', 'Vegetable'],\n",
    "\n",
    "    'Name': ['Apple', 'Carrot', 'Banana', 'Potato', 'Grape', 'Onion'],\n",
    "\n",
    "    'Price': [2, 1, 1.5, 0.5, 3, 1],\n",
    "\n",
    "    'Quantity': [10, 20, 15, 30, 5, 40]\n",
    "\n",
    "}\n",
    "\n",
    "\n",
    "\n",
    "df = pd.DataFrame(data)\n",
    "\n",
    "\n",
    "\n",
    "fruits = df[df['Category'] == 'Fruit']\n",
    "\n",
    "total_fruit_value = fruits['Price'].sum() * fruits['Quantity'].sum()\n",
    "\n",
    "print(total_fruit_value)"
   ]
  },
  {
   "cell_type": "code",
   "execution_count": null,
   "id": "bd941f6111c0bde2",
   "metadata": {
    "ExecuteTime": {
     "start_time": "2024-01-13T23:10:42.997235200Z"
    },
    "collapsed": false
   },
   "outputs": [],
   "source": [
    "import pandas as pd\n",
    "\n",
    "\n",
    "\n",
    "data = {\n",
    "\n",
    "    'Name': ['Alice', 'Bob', 'Charlie', 'David'],\n",
    "\n",
    "    'Age': [25, 30, 35, 40],\n",
    "\n",
    "    'City': ['New York', 'San Francisco', 'Los Angeles', 'Chicago']\n",
    "\n",
    "}\n",
    "\n",
    "\n",
    "\n",
    "df = pd.DataFrame(data)\n",
    "\n",
    "\n",
    "\n",
    "result = df[df['Age'] >= 30].sort_values(by='Age', ascending=False).iloc[0]['City']\n",
    "\n",
    "print(result)"
   ]
  },
  {
   "cell_type": "code",
   "execution_count": null,
   "id": "84906d23b06fc121",
   "metadata": {
    "ExecuteTime": {
     "start_time": "2024-01-13T23:10:42.997235200Z"
    },
    "collapsed": false
   },
   "outputs": [],
   "source": [
    "import pandas as pd\n",
    "\n",
    "\n",
    "\n",
    "data = {\n",
    "\n",
    "    'Product': ['A', 'B', 'C', 'A', 'B', 'C'],\n",
    "\n",
    "    'Price': [100, 200, 300, 150, 250, 350],\n",
    "\n",
    "    'Quantity': [10, 5, 7, 12, 8, 5]\n",
    "\n",
    "}\n",
    "\n",
    "\n",
    "\n",
    "df = pd.DataFrame(data)\n",
    "\n",
    "\n",
    "\n",
    "total_revenue = (df['Price'] * df['Quantity']).sum()\n",
    "\n",
    "average_price = df['Price'].mean()\n",
    "\n",
    "print(total_revenue, average_price)"
   ]
  },
  {
   "cell_type": "code",
   "execution_count": null,
   "id": "ffd17323654799ac",
   "metadata": {
    "ExecuteTime": {
     "start_time": "2024-01-13T23:10:42.998238Z"
    },
    "collapsed": false
   },
   "outputs": [],
   "source": [
    "data = {\n",
    "\n",
    "    'Customer': ['Alice', 'Bob', 'Alice', 'Alice', 'Bob', 'Bob', 'Alice', 'Bob'],\n",
    "\n",
    "    'Item': ['Pen', 'Pencil', 'Notebook', 'Eraser', 'Pen', 'Pencil', 'Notebook', 'Eraser'],\n",
    "\n",
    "    'Price': [10, 5, 50, 20, 10, 5, 50, 20],\n",
    "\n",
    "    'Quantity': [3, 4, 2, 5, 10, 6, 1, 2]\n",
    "\n",
    "}"
   ]
  },
  {
   "cell_type": "code",
   "execution_count": null,
   "id": "6a60681421ac0a0e",
   "metadata": {
    "ExecuteTime": {
     "start_time": "2024-01-13T23:10:42.998238Z"
    },
    "collapsed": false
   },
   "outputs": [],
   "source": [
    "df = pd.DataFrame(data)\n",
    "df"
   ]
  },
  {
   "cell_type": "code",
   "execution_count": null,
   "id": "63fe490367f7a18f",
   "metadata": {
    "ExecuteTime": {
     "start_time": "2024-01-13T23:10:42.998238Z"
    },
    "collapsed": false
   },
   "outputs": [],
   "source": [
    "df['Total_Spent'] = df['Price'] * df['Quantity']\n",
    "df"
   ]
  },
  {
   "cell_type": "code",
   "id": "eb395c534c5b5186",
   "metadata": {
    "ExecuteTime": {
     "start_time": "2024-01-13T23:10:42.998238Z"
    },
    "collapsed": false
   },
   "outputs": [],
   "source": [
    "item_summary = df.groupby('Item').agg({'Total_': 'sum'})"
   ]
  }
 ],
 "metadata": {
  "kernelspec": {
   "display_name": "Python 3",
   "language": "python",
   "name": "python3"
  },
  "language_info": {
   "codemirror_mode": {
    "name": "ipython",
    "version": 2
   },
   "file_extension": ".py",
   "mimetype": "text/x-python",
   "name": "python",
   "nbconvert_exporter": "python",
   "pygments_lexer": "ipython2",
   "version": "2.7.6"
  }
 },
 "nbformat": 4,
 "nbformat_minor": 5
}
